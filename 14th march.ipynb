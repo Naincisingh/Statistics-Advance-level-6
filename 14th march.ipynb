{
 "cells": [
  {
   "cell_type": "markdown",
   "id": "3c60d2b0-ba4c-4ee5-8526-23aa95ee4e8c",
   "metadata": {},
   "source": [
    "QTS.1"
   ]
  },
  {
   "cell_type": "code",
   "execution_count": 12,
   "id": "40414f2b-ed0c-4134-9d8e-5bb4dbbedaaf",
   "metadata": {},
   "outputs": [
    {
     "name": "stdout",
     "output_type": "stream",
     "text": [
      "F-value: 0.2270017035775128\n",
      "P-value: 0.09001646013453808\n"
     ]
    }
   ],
   "source": [
    "import numpy as np\n",
    "import pandas as pd\n",
    "import scipy.stats as stats\n",
    "\n",
    "ar1=np.random.randint(10,30,5)\n",
    "ar2=np.random.randint(10,50,5)\n",
    "\n",
    "f_value=np.var(ar1)/np.var(ar2)\n",
    "\n",
    "## degree of freedom\n",
    "dfn=len(ar1)-1\n",
    "dfd=len(ar2)-1\n",
    "\n",
    "## calculating the p_value & f_tset\n",
    "p_value = stats.f.cdf(f_value, dfn, dfd)\n",
    "\n",
    "print(f\"F-value: {f_value}\")\n",
    "print(f\"P-value: {p_value}\")"
   ]
  },
  {
   "cell_type": "markdown",
   "id": "aa1b16d3-45a3-4cc0-94ef-3a15575136f1",
   "metadata": {},
   "source": [
    "QTS.2"
   ]
  },
  {
   "cell_type": "code",
   "execution_count": 22,
   "id": "3ae14a81-17a8-472d-a396-2c4473fc5a3a",
   "metadata": {},
   "outputs": [
    {
     "name": "stdout",
     "output_type": "stream",
     "text": [
      "Critical F-value: 9.60452988472286\n"
     ]
    }
   ],
   "source": [
    "import numpy as np\n",
    "import pandas as pd\n",
    "import scipy.stats as stats\n",
    "\n",
    "ar1 = np.random.randint(10, 30, 5)\n",
    "ar2 = np.random.randint(10, 50, 5)\n",
    "alpha = 0.05\n",
    "\n",
    "# Degrees of freedom\n",
    "dfn = len(ar1) - 1\n",
    "dfd = len(ar2) - 1\n",
    "\n",
    "# Calculating the critical F-value for a two-tail test\n",
    "cf_value = stats.f.ppf(1 - alpha/2, dfn, dfd)\n",
    "\n",
    "\n",
    "print(f\"Critical F-value: {cf_value}\")\n"
   ]
  },
  {
   "cell_type": "markdown",
   "id": "06f5cd49-2e84-4f18-b48a-e13c3ac3d1cc",
   "metadata": {},
   "source": [
    "QTS.3"
   ]
  },
  {
   "cell_type": "code",
   "execution_count": 10,
   "id": "3917a0be-009d-4687-b1e4-c1a978dce5d1",
   "metadata": {},
   "outputs": [
    {
     "name": "stdout",
     "output_type": "stream",
     "text": [
      "f-statistics : 0.756446172264216\n",
      "p-value for a two tail test : 1.6681526953141506\n",
      "degree of freedom for sample 1 : 49\n",
      "degree of freedom for sample 2 : 49\n",
      "fails to reject the null hypothesis\n"
     ]
    }
   ],
   "source": [
    "import numpy as np\n",
    "import pandas as pd\n",
    "import scipy.stats as stats\n",
    "\n",
    "## generating samplke data\n",
    "ar1= np.random.normal(loc=5,scale=2,size=50)\n",
    "ar2=np. random.normal(loc=8,scale=2,size=50)\n",
    "alpha=0.05\n",
    "## null hypothesis:- variances of two sample data are equal\n",
    "## alternate hypothesis:- variances are not equal\n",
    "\n",
    "## calculating dof\n",
    "df1= len(ar1)-1\n",
    "df2= len(ar2)-1\n",
    "\n",
    "## calculating f & p value for a two tailed test\n",
    "\n",
    "f_value= np.var(ar1)/np.var(ar2)\n",
    "\n",
    "p_value= 2*(1-stats.f.cdf(f_value, df1, df2))\n",
    "\n",
    "print(f\"f-statistics : {f_value}\")\n",
    "print(f\"p-value for a two tail test : {p_value}\")\n",
    "print(f\"degree of freedom for sample 1 : {df1}\")\n",
    "print(f\"degree of freedom for sample 2 : {df2}\")\n",
    "\n",
    "if p_value < alpha:\n",
    "    print(\"null hypothesis is rejected\")\n",
    "else:\n",
    "    print(\"fails to reject the null hypothesis\")"
   ]
  },
  {
   "cell_type": "markdown",
   "id": "dddc4610-86ae-4600-a16a-16467f1c64d5",
   "metadata": {},
   "source": [
    "QTS.4"
   ]
  },
  {
   "cell_type": "code",
   "execution_count": 13,
   "id": "4e147ce5-578d-4806-95ab-2ad2db6a49fd",
   "metadata": {},
   "outputs": [
    {
     "name": "stdout",
     "output_type": "stream",
     "text": [
      "fails to reject the null hypothesis\n"
     ]
    }
   ],
   "source": [
    "import numpy as np\n",
    "import scipy.stats as stats\n",
    "\n",
    "v1=10\n",
    "v2=15\n",
    "\n",
    "s1=np.random.randint(1,20,12)\n",
    "s2=np.random.randint(1,80,12)\n",
    "\n",
    "df1=len(s1)-1\n",
    "df2=len(s2)-1\n",
    "\n",
    "f_test=np.var(s1)/np.var(s2)\n",
    "\n",
    "cv=stats.f.ppf(1-0.05, df1, df2)\n",
    "\n",
    "if f_test>cv:\n",
    "    print(\"reject the null hypothesis\")\n",
    "else:\n",
    "    print(\"fails to reject the null hypothesis\")"
   ]
  },
  {
   "cell_type": "markdown",
   "id": "bf16b5a4-0d1d-40b1-9ab4-10a9aa4caaca",
   "metadata": {},
   "source": [
    "QTS.5"
   ]
  },
  {
   "cell_type": "code",
   "execution_count": 17,
   "id": "6a61d4a6-3b94-47b4-89c5-d31a32e34039",
   "metadata": {},
   "outputs": [
    {
     "name": "stdout",
     "output_type": "stream",
     "text": [
      "fails to reject the null hypothesis\n"
     ]
    }
   ],
   "source": [
    "import numpy as np\n",
    "import scipy.stats as stats\n",
    "\n",
    "sam_var=0.06\n",
    "pop_var=0.05\n",
    "alpha=0.01\n",
    "sam_size=25\n",
    "\n",
    "df1=sam_size-1\n",
    "df2=1                              ## for a single sample\n",
    " \n",
    "f_value=sam_var/pop_var\n",
    "\n",
    "cv=stats.f.ppf(1-alpha/2,df1,df2)\n",
    "\n",
    "if f_value>cv:\n",
    "    print(\"reject the null hypothesis\")\n",
    "else:\n",
    "    print(\"fails to reject the null hypothesis\")   "
   ]
  },
  {
   "cell_type": "markdown",
   "id": "9a582e2b-bcda-4bc9-a9a9-512c23490b3a",
   "metadata": {},
   "source": [
    " QTS.6"
   ]
  },
  {
   "cell_type": "code",
   "execution_count": 19,
   "id": "16a7153c-a6c4-4e0a-ace2-dcb9870abf2a",
   "metadata": {},
   "outputs": [
    {
     "name": "stdout",
     "output_type": "stream",
     "text": [
      "Mean: 1.25\n",
      "Variance: 1.3541666666666667\n"
     ]
    }
   ],
   "source": [
    "def calculate_f_distribution_mean_and_variance(df_numerator, df_denominator):\n",
    "    # Check that degrees of freedom are valid for an F-distribution\n",
    "    if df_numerator <= 0 or df_denominator <= 0 or df_denominator <= 2:\n",
    "        raise ValueError(\"Invalid degrees of freedom for an F-distribution\")\n",
    "\n",
    "    # Calculate mean\n",
    "    mean = df_denominator / (df_denominator - 2)\n",
    "\n",
    "    # Calculate variance\n",
    "    variance = (2 * (df_denominator**2 * (df_numerator + df_denominator - 2))) / (\n",
    "        df_numerator * (df_denominator - 2)**2 * (df_denominator - 4)\n",
    "    )\n",
    "\n",
    "    return mean, variance\n",
    "\n",
    "# Example usage\n",
    "df_numerator_example = 5\n",
    "df_denominator_example = 10\n",
    "\n",
    "mean, variance = calculate_f_distribution_mean_and_variance(df_numerator_example, df_denominator_example)\n",
    "print(\"Mean:\", mean)\n",
    "print(\"Variance:\", variance)\n"
   ]
  },
  {
   "cell_type": "markdown",
   "id": "c96fc023-1780-42ec-a329-75a6e8aad590",
   "metadata": {},
   "source": [
    "QTS.7"
   ]
  },
  {
   "cell_type": "code",
   "execution_count": 23,
   "id": "4b7da41d-c5b1-4263-8fd8-cb2b4dc24c0b",
   "metadata": {},
   "outputs": [
    {
     "name": "stdout",
     "output_type": "stream",
     "text": [
      "fails to reject the null hypothesis\n"
     ]
    }
   ],
   "source": [
    "import numpy as np\n",
    "import scipy.stats as stats\n",
    "\n",
    "s1_size=10\n",
    "s2_size=15\n",
    "\n",
    "s1_var=25\n",
    "s2_var=20\n",
    "alpha=0.10\n",
    "\n",
    "df1= s1_size-1\n",
    "df2= s2_size-1\n",
    "\n",
    "f_value=s1_var/s2_var\n",
    "\n",
    "cv=stats.f.ppf(1-alpha/2,df1,df2)\n",
    "\n",
    "if f_value>cv:\n",
    "    print(\"reject the null hypothesis\")\n",
    "else:\n",
    "    print(\"fails to reject the null hypothesis\")"
   ]
  },
  {
   "cell_type": "markdown",
   "id": "40e18545-99f3-4a7a-b7bb-5e29f1ce6e55",
   "metadata": {},
   "source": [
    "QTS.8"
   ]
  },
  {
   "cell_type": "code",
   "execution_count": 26,
   "id": "abe63aef-7515-4fc3-a376-c13907ddbd0e",
   "metadata": {},
   "outputs": [
    {
     "name": "stdout",
     "output_type": "stream",
     "text": [
      "fails to reject the null hypothesis\n"
     ]
    }
   ],
   "source": [
    "import numpy as np\n",
    "import scipy.stats as stats\n",
    "\n",
    "A= [24, 25, 28, 23, 22, 20, 27]\n",
    "B= [31, 33, 35, 30, 32]\n",
    "alpha=0.05\n",
    "\n",
    "df1= len(A) - 1\n",
    "df2= len(B) - 1\n",
    "\n",
    "f_value= np.var(A, ddof=1)/np.var(B, ddof=1)\n",
    "\n",
    "cv=stats.f.ppf(1-alpha/2, df1, df2)\n",
    "\n",
    "if f_value> cv:\n",
    "    print(\"reject the null hypothesis\")\n",
    "else:\n",
    "    print(\"fails to reject the null hypothesis\")"
   ]
  },
  {
   "cell_type": "markdown",
   "id": "ae3582bc-20cf-4704-8db0-9afe9edb6728",
   "metadata": {},
   "source": [
    "QTS.9"
   ]
  },
  {
   "cell_type": "code",
   "execution_count": 30,
   "id": "a62dad71-55f6-461d-807e-3265f6264a0c",
   "metadata": {},
   "outputs": [
    {
     "name": "stdout",
     "output_type": "stream",
     "text": [
      "fails to reject the null hypothesis\n"
     ]
    }
   ],
   "source": [
    "import numpy as np\n",
    "import scipy.stats as stats\n",
    "\n",
    "A= [80, 85, 90, 92, 87, 83]\n",
    "B= [75, 78, 82, 79, 81, 84]\n",
    "alpha=0.01\n",
    "\n",
    "df1= len(A) - 1\n",
    "df2= len(B) - 1\n",
    "\n",
    "f_value= np.var(A, ddof=1)/np.var(B, ddof=1)\n",
    "\n",
    "cv=stats.f.ppf(1-alpha/2, df1, df2)\n",
    "\n",
    "if f_value> cv:\n",
    "    print(\"reject the null hypothesis\")\n",
    "else:\n",
    "    print(\"fails to reject the null hypothesis\")"
   ]
  },
  {
   "cell_type": "code",
   "execution_count": null,
   "id": "cae516bd-6a6f-4cd7-a463-7b8df9a2d907",
   "metadata": {},
   "outputs": [],
   "source": []
  }
 ],
 "metadata": {
  "kernelspec": {
   "display_name": "Python 3 (ipykernel)",
   "language": "python",
   "name": "python3"
  },
  "language_info": {
   "codemirror_mode": {
    "name": "ipython",
    "version": 3
   },
   "file_extension": ".py",
   "mimetype": "text/x-python",
   "name": "python",
   "nbconvert_exporter": "python",
   "pygments_lexer": "ipython3",
   "version": "3.10.8"
  }
 },
 "nbformat": 4,
 "nbformat_minor": 5
}
